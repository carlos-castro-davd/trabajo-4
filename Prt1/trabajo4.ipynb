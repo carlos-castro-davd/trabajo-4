{
 "cells": [
  {
   "cell_type": "markdown",
   "metadata": {
    "collapsed": true,
    "pycharm": {
     "name": "#%% md\n"
    }
   },
   "source": [
    "# Trabajo 4: Previsión de ingresos en hoteles\n",
    "\n",
    "Una empresa hotelera gestiona dos hoteles diferentes y ha almacenado información de las reservas realizadas en ambos hoteles durante varios años. Su idea es realizar nuevas campañas publicitarias que puedan atraer a clientes en temporadas bajas y altas entre otras posibles medidas estratégicas.\n",
    "\n",
    "Para ello la empresa os pide:\n",
    "\n",
    "* Realizar un análisis exploratorio de los datos detallando aquellos aspectos más relevantes que hayáis encontrado.\n",
    "* Construir un modelo de forecasting que prediga los ingresos que van a recibir en cada hotel.\n",
    "* Desarrollar un cuadro de mando con Dash que resuma los aspectos más relevantes que hayáis extraido en el análisis exploratorio y muestre cual es la previsión de ingresos de los hoteles.\n",
    "\n",
    "¿Qué medidas estratégicas basadas en datos recomendaríais para atraer nuevos clientes?\n",
    "\n",
    "## Información de las variables.\n",
    "\n",
    "* https://www.sciencedirect.com/science/article/pii/S2352340918315191"
   ]
  },
  {
   "cell_type": "code",
   "execution_count": null,
   "outputs": [],
   "source": [],
   "metadata": {
    "collapsed": false,
    "pycharm": {
     "name": "#%%\n"
    }
   }
  },
  {
   "cell_type": "code",
   "execution_count": 1,
   "outputs": [],
   "source": [
    "import pandas as pd"
   ],
   "metadata": {
    "collapsed": false,
    "pycharm": {
     "name": "#%%\n"
    }
   }
  },
  {
   "cell_type": "code",
   "execution_count": 1,
   "outputs": [],
   "source": [],
   "metadata": {
    "collapsed": false,
    "pycharm": {
     "name": "#%%\n"
    }
   }
  },
  {
   "cell_type": "markdown",
   "source": [
    "### Realizar un análisis exploratorio de los datos detallando aquellos aspectos más relevantes que hayáis encontrado."
   ],
   "metadata": {
    "collapsed": false,
    "pycharm": {
     "name": "#%% md\n"
    }
   }
  },
  {
   "cell_type": "code",
   "execution_count": 2,
   "outputs": [
    {
     "data": {
      "text/plain": "          hotel  is_canceled  lead_time  arrival_date_year arrival_date_month  \\\n0  Resort Hotel            0        342               2015               July   \n1  Resort Hotel            0        737               2015               July   \n2  Resort Hotel            0          7               2015               July   \n3  Resort Hotel            0         13               2015               July   \n4  Resort Hotel            0         14               2015               July   \n\n   arrival_date_week_number  arrival_date_day_of_month  \\\n0                        27                          1   \n1                        27                          1   \n2                        27                          1   \n3                        27                          1   \n4                        27                          1   \n\n   stays_in_weekend_nights  stays_in_week_nights  adults  ...  deposit_type  \\\n0                        0                     0       2  ...    No Deposit   \n1                        0                     0       2  ...    No Deposit   \n2                        0                     1       1  ...    No Deposit   \n3                        0                     1       1  ...    No Deposit   \n4                        0                     2       2  ...    No Deposit   \n\n   agent company days_in_waiting_list customer_type   adr  \\\n0    NaN     NaN                    0     Transient   0.0   \n1    NaN     NaN                    0     Transient   0.0   \n2    NaN     NaN                    0     Transient  75.0   \n3  304.0     NaN                    0     Transient  75.0   \n4  240.0     NaN                    0     Transient  98.0   \n\n   required_car_parking_spaces  total_of_special_requests  reservation_status  \\\n0                            0                          0           Check-Out   \n1                            0                          0           Check-Out   \n2                            0                          0           Check-Out   \n3                            0                          0           Check-Out   \n4                            0                          1           Check-Out   \n\n  reservation_status_date  \n0              2015-07-01  \n1              2015-07-01  \n2              2015-07-02  \n3              2015-07-02  \n4              2015-07-03  \n\n[5 rows x 32 columns]",
      "text/html": "<div>\n<style scoped>\n    .dataframe tbody tr th:only-of-type {\n        vertical-align: middle;\n    }\n\n    .dataframe tbody tr th {\n        vertical-align: top;\n    }\n\n    .dataframe thead th {\n        text-align: right;\n    }\n</style>\n<table border=\"1\" class=\"dataframe\">\n  <thead>\n    <tr style=\"text-align: right;\">\n      <th></th>\n      <th>hotel</th>\n      <th>is_canceled</th>\n      <th>lead_time</th>\n      <th>arrival_date_year</th>\n      <th>arrival_date_month</th>\n      <th>arrival_date_week_number</th>\n      <th>arrival_date_day_of_month</th>\n      <th>stays_in_weekend_nights</th>\n      <th>stays_in_week_nights</th>\n      <th>adults</th>\n      <th>...</th>\n      <th>deposit_type</th>\n      <th>agent</th>\n      <th>company</th>\n      <th>days_in_waiting_list</th>\n      <th>customer_type</th>\n      <th>adr</th>\n      <th>required_car_parking_spaces</th>\n      <th>total_of_special_requests</th>\n      <th>reservation_status</th>\n      <th>reservation_status_date</th>\n    </tr>\n  </thead>\n  <tbody>\n    <tr>\n      <th>0</th>\n      <td>Resort Hotel</td>\n      <td>0</td>\n      <td>342</td>\n      <td>2015</td>\n      <td>July</td>\n      <td>27</td>\n      <td>1</td>\n      <td>0</td>\n      <td>0</td>\n      <td>2</td>\n      <td>...</td>\n      <td>No Deposit</td>\n      <td>NaN</td>\n      <td>NaN</td>\n      <td>0</td>\n      <td>Transient</td>\n      <td>0.0</td>\n      <td>0</td>\n      <td>0</td>\n      <td>Check-Out</td>\n      <td>2015-07-01</td>\n    </tr>\n    <tr>\n      <th>1</th>\n      <td>Resort Hotel</td>\n      <td>0</td>\n      <td>737</td>\n      <td>2015</td>\n      <td>July</td>\n      <td>27</td>\n      <td>1</td>\n      <td>0</td>\n      <td>0</td>\n      <td>2</td>\n      <td>...</td>\n      <td>No Deposit</td>\n      <td>NaN</td>\n      <td>NaN</td>\n      <td>0</td>\n      <td>Transient</td>\n      <td>0.0</td>\n      <td>0</td>\n      <td>0</td>\n      <td>Check-Out</td>\n      <td>2015-07-01</td>\n    </tr>\n    <tr>\n      <th>2</th>\n      <td>Resort Hotel</td>\n      <td>0</td>\n      <td>7</td>\n      <td>2015</td>\n      <td>July</td>\n      <td>27</td>\n      <td>1</td>\n      <td>0</td>\n      <td>1</td>\n      <td>1</td>\n      <td>...</td>\n      <td>No Deposit</td>\n      <td>NaN</td>\n      <td>NaN</td>\n      <td>0</td>\n      <td>Transient</td>\n      <td>75.0</td>\n      <td>0</td>\n      <td>0</td>\n      <td>Check-Out</td>\n      <td>2015-07-02</td>\n    </tr>\n    <tr>\n      <th>3</th>\n      <td>Resort Hotel</td>\n      <td>0</td>\n      <td>13</td>\n      <td>2015</td>\n      <td>July</td>\n      <td>27</td>\n      <td>1</td>\n      <td>0</td>\n      <td>1</td>\n      <td>1</td>\n      <td>...</td>\n      <td>No Deposit</td>\n      <td>304.0</td>\n      <td>NaN</td>\n      <td>0</td>\n      <td>Transient</td>\n      <td>75.0</td>\n      <td>0</td>\n      <td>0</td>\n      <td>Check-Out</td>\n      <td>2015-07-02</td>\n    </tr>\n    <tr>\n      <th>4</th>\n      <td>Resort Hotel</td>\n      <td>0</td>\n      <td>14</td>\n      <td>2015</td>\n      <td>July</td>\n      <td>27</td>\n      <td>1</td>\n      <td>0</td>\n      <td>2</td>\n      <td>2</td>\n      <td>...</td>\n      <td>No Deposit</td>\n      <td>240.0</td>\n      <td>NaN</td>\n      <td>0</td>\n      <td>Transient</td>\n      <td>98.0</td>\n      <td>0</td>\n      <td>1</td>\n      <td>Check-Out</td>\n      <td>2015-07-03</td>\n    </tr>\n  </tbody>\n</table>\n<p>5 rows × 32 columns</p>\n</div>"
     },
     "execution_count": 2,
     "metadata": {},
     "output_type": "execute_result"
    }
   ],
   "source": [
    "df = pd.read_csv(\"trabajo4.csv\")\n",
    "df.head()"
   ],
   "metadata": {
    "collapsed": false,
    "pycharm": {
     "name": "#%%\n"
    }
   }
  },
  {
   "cell_type": "code",
   "execution_count": 3,
   "outputs": [
    {
     "data": {
      "text/plain": "hotel                                  0\nis_canceled                            0\nlead_time                              0\narrival_date_year                      0\narrival_date_month                     0\narrival_date_week_number               0\narrival_date_day_of_month              0\nstays_in_weekend_nights                0\nstays_in_week_nights                   0\nadults                                 0\nchildren                               4\nbabies                                 0\nmeal                                   0\ncountry                              488\nmarket_segment                         0\ndistribution_channel                   0\nis_repeated_guest                      0\nprevious_cancellations                 0\nprevious_bookings_not_canceled         0\nreserved_room_type                     0\nassigned_room_type                     0\nbooking_changes                        0\ndeposit_type                           0\nagent                              16340\ncompany                           112593\ndays_in_waiting_list                   0\ncustomer_type                          0\nadr                                    0\nrequired_car_parking_spaces            0\ntotal_of_special_requests              0\nreservation_status                     0\nreservation_status_date                0\ndtype: int64"
     },
     "execution_count": 3,
     "metadata": {},
     "output_type": "execute_result"
    }
   ],
   "source": [
    "df.isna().sum()"
   ],
   "metadata": {
    "collapsed": false,
    "pycharm": {
     "name": "#%%\n"
    }
   }
  },
  {
   "cell_type": "code",
   "execution_count": 4,
   "outputs": [],
   "source": [
    "df=df.drop(['company','country','agent'],1)"
   ],
   "metadata": {
    "collapsed": false,
    "pycharm": {
     "name": "#%%\n"
    }
   }
  },
  {
   "cell_type": "code",
   "execution_count": 5,
   "outputs": [],
   "source": [
    "def compter(d_fr,col_name):\n",
    "    k=0\n",
    "    for i in d_fr[col_name]:\n",
    "        if i!=0 :\n",
    "            k+=1\n",
    "    print(k)"
   ],
   "metadata": {
    "collapsed": false,
    "pycharm": {
     "name": "#%%\n"
    }
   }
  },
  {
   "cell_type": "code",
   "execution_count": 6,
   "outputs": [
    {
     "name": "stdout",
     "output_type": "stream",
     "text": [
      "917\n",
      "8594\n",
      "3810\n",
      "6484\n",
      "3620\n"
     ]
    }
   ],
   "source": [
    "compter(df,'babies')\n",
    "compter(df, 'children')\n",
    "compter(df,'is_repeated_guest')\n",
    "compter(df,'previous_cancellations')\n",
    "compter(df,'previous_bookings_not_canceled')"
   ],
   "metadata": {
    "collapsed": false,
    "pycharm": {
     "name": "#%%\n"
    }
   }
  },
  {
   "cell_type": "code",
   "execution_count": 226,
   "outputs": [],
   "source": [
    "#df['babies','children','is_repeated_guest','previous_cancellations','previous_bookings_not_canceled']"
   ],
   "metadata": {
    "collapsed": false,
    "pycharm": {
     "name": "#%%\n"
    }
   }
  },
  {
   "cell_type": "code",
   "execution_count": 7,
   "outputs": [
    {
     "data": {
      "text/plain": "          hotel  is_canceled  lead_time  arrival_date_year arrival_date_month  \\\n0  Resort Hotel            0        342               2015               July   \n1  Resort Hotel            0        737               2015               July   \n2  Resort Hotel            0          7               2015               July   \n3  Resort Hotel            0         13               2015               July   \n4  Resort Hotel            0         14               2015               July   \n\n   arrival_date_week_number  arrival_date_day_of_month  \\\n0                        27                          1   \n1                        27                          1   \n2                        27                          1   \n3                        27                          1   \n4                        27                          1   \n\n   stays_in_weekend_nights  stays_in_week_nights  adults  ...  \\\n0                        0                     0       2  ...   \n1                        0                     0       2  ...   \n2                        0                     1       1  ...   \n3                        0                     1       1  ...   \n4                        0                     2       2  ...   \n\n  assigned_room_type booking_changes deposit_type days_in_waiting_list  \\\n0                  C               3   No Deposit                    0   \n1                  C               4   No Deposit                    0   \n2                  C               0   No Deposit                    0   \n3                  A               0   No Deposit                    0   \n4                  A               0   No Deposit                    0   \n\n  customer_type   adr required_car_parking_spaces  total_of_special_requests  \\\n0     Transient   0.0                           0                          0   \n1     Transient   0.0                           0                          0   \n2     Transient  75.0                           0                          0   \n3     Transient  75.0                           0                          0   \n4     Transient  98.0                           0                          1   \n\n  reservation_status  reservation_status_date  \n0          Check-Out               2015-07-01  \n1          Check-Out               2015-07-01  \n2          Check-Out               2015-07-02  \n3          Check-Out               2015-07-02  \n4          Check-Out               2015-07-03  \n\n[5 rows x 24 columns]",
      "text/html": "<div>\n<style scoped>\n    .dataframe tbody tr th:only-of-type {\n        vertical-align: middle;\n    }\n\n    .dataframe tbody tr th {\n        vertical-align: top;\n    }\n\n    .dataframe thead th {\n        text-align: right;\n    }\n</style>\n<table border=\"1\" class=\"dataframe\">\n  <thead>\n    <tr style=\"text-align: right;\">\n      <th></th>\n      <th>hotel</th>\n      <th>is_canceled</th>\n      <th>lead_time</th>\n      <th>arrival_date_year</th>\n      <th>arrival_date_month</th>\n      <th>arrival_date_week_number</th>\n      <th>arrival_date_day_of_month</th>\n      <th>stays_in_weekend_nights</th>\n      <th>stays_in_week_nights</th>\n      <th>adults</th>\n      <th>...</th>\n      <th>assigned_room_type</th>\n      <th>booking_changes</th>\n      <th>deposit_type</th>\n      <th>days_in_waiting_list</th>\n      <th>customer_type</th>\n      <th>adr</th>\n      <th>required_car_parking_spaces</th>\n      <th>total_of_special_requests</th>\n      <th>reservation_status</th>\n      <th>reservation_status_date</th>\n    </tr>\n  </thead>\n  <tbody>\n    <tr>\n      <th>0</th>\n      <td>Resort Hotel</td>\n      <td>0</td>\n      <td>342</td>\n      <td>2015</td>\n      <td>July</td>\n      <td>27</td>\n      <td>1</td>\n      <td>0</td>\n      <td>0</td>\n      <td>2</td>\n      <td>...</td>\n      <td>C</td>\n      <td>3</td>\n      <td>No Deposit</td>\n      <td>0</td>\n      <td>Transient</td>\n      <td>0.0</td>\n      <td>0</td>\n      <td>0</td>\n      <td>Check-Out</td>\n      <td>2015-07-01</td>\n    </tr>\n    <tr>\n      <th>1</th>\n      <td>Resort Hotel</td>\n      <td>0</td>\n      <td>737</td>\n      <td>2015</td>\n      <td>July</td>\n      <td>27</td>\n      <td>1</td>\n      <td>0</td>\n      <td>0</td>\n      <td>2</td>\n      <td>...</td>\n      <td>C</td>\n      <td>4</td>\n      <td>No Deposit</td>\n      <td>0</td>\n      <td>Transient</td>\n      <td>0.0</td>\n      <td>0</td>\n      <td>0</td>\n      <td>Check-Out</td>\n      <td>2015-07-01</td>\n    </tr>\n    <tr>\n      <th>2</th>\n      <td>Resort Hotel</td>\n      <td>0</td>\n      <td>7</td>\n      <td>2015</td>\n      <td>July</td>\n      <td>27</td>\n      <td>1</td>\n      <td>0</td>\n      <td>1</td>\n      <td>1</td>\n      <td>...</td>\n      <td>C</td>\n      <td>0</td>\n      <td>No Deposit</td>\n      <td>0</td>\n      <td>Transient</td>\n      <td>75.0</td>\n      <td>0</td>\n      <td>0</td>\n      <td>Check-Out</td>\n      <td>2015-07-02</td>\n    </tr>\n    <tr>\n      <th>3</th>\n      <td>Resort Hotel</td>\n      <td>0</td>\n      <td>13</td>\n      <td>2015</td>\n      <td>July</td>\n      <td>27</td>\n      <td>1</td>\n      <td>0</td>\n      <td>1</td>\n      <td>1</td>\n      <td>...</td>\n      <td>A</td>\n      <td>0</td>\n      <td>No Deposit</td>\n      <td>0</td>\n      <td>Transient</td>\n      <td>75.0</td>\n      <td>0</td>\n      <td>0</td>\n      <td>Check-Out</td>\n      <td>2015-07-02</td>\n    </tr>\n    <tr>\n      <th>4</th>\n      <td>Resort Hotel</td>\n      <td>0</td>\n      <td>14</td>\n      <td>2015</td>\n      <td>July</td>\n      <td>27</td>\n      <td>1</td>\n      <td>0</td>\n      <td>2</td>\n      <td>2</td>\n      <td>...</td>\n      <td>A</td>\n      <td>0</td>\n      <td>No Deposit</td>\n      <td>0</td>\n      <td>Transient</td>\n      <td>98.0</td>\n      <td>0</td>\n      <td>1</td>\n      <td>Check-Out</td>\n      <td>2015-07-03</td>\n    </tr>\n  </tbody>\n</table>\n<p>5 rows × 24 columns</p>\n</div>"
     },
     "execution_count": 7,
     "metadata": {},
     "output_type": "execute_result"
    }
   ],
   "source": [
    "df=df.drop(['babies','children','is_repeated_guest','previous_cancellations','previous_bookings_not_canceled'],1)\n",
    "df.head()"
   ],
   "metadata": {
    "collapsed": false,
    "pycharm": {
     "name": "#%%\n"
    }
   }
  },
  {
   "cell_type": "code",
   "execution_count": 8,
   "outputs": [
    {
     "data": {
      "text/plain": "hotel                          0\nis_canceled                    0\nlead_time                      0\narrival_date_year              0\narrival_date_month             0\narrival_date_week_number       0\narrival_date_day_of_month      0\nstays_in_weekend_nights        0\nstays_in_week_nights           0\nadults                         0\nmeal                           0\nmarket_segment                 0\ndistribution_channel           0\nreserved_room_type             0\nassigned_room_type             0\nbooking_changes                0\ndeposit_type                   0\ndays_in_waiting_list           0\ncustomer_type                  0\nadr                            0\nrequired_car_parking_spaces    0\ntotal_of_special_requests      0\nreservation_status             0\nreservation_status_date        0\ndtype: int64"
     },
     "execution_count": 8,
     "metadata": {},
     "output_type": "execute_result"
    }
   ],
   "source": [
    "df.isna().sum()"
   ],
   "metadata": {
    "collapsed": false,
    "pycharm": {
     "name": "#%%\n"
    }
   }
  },
  {
   "cell_type": "code",
   "execution_count": 9,
   "outputs": [],
   "source": [],
   "metadata": {
    "collapsed": false,
    "pycharm": {
     "name": "#%%\n"
    }
   }
  },
  {
   "cell_type": "code",
   "execution_count": 10,
   "outputs": [
    {
     "data": {
      "text/plain": "<pandas.io.formats.style.Styler at 0x1ea418d0340>",
      "text/html": "<style  type=\"text/css\" >\n#T_fe3b1_row0_col0,#T_fe3b1_row1_col1,#T_fe3b1_row2_col2,#T_fe3b1_row3_col3,#T_fe3b1_row4_col4,#T_fe3b1_row5_col5,#T_fe3b1_row6_col6,#T_fe3b1_row7_col7,#T_fe3b1_row8_col8,#T_fe3b1_row9_col9,#T_fe3b1_row10_col10,#T_fe3b1_row11_col11,#T_fe3b1_row12_col12{\n            background-color:  #b40426;\n            color:  #f1f1f1;\n        }#T_fe3b1_row0_col1,#T_fe3b1_row5_col2,#T_fe3b1_row9_col3{\n            background-color:  #b5cdfa;\n            color:  #000000;\n        }#T_fe3b1_row0_col2,#T_fe3b1_row5_col3,#T_fe3b1_row6_col3{\n            background-color:  #b3cdfb;\n            color:  #000000;\n        }#T_fe3b1_row0_col3{\n            background-color:  #b2ccfb;\n            color:  #000000;\n        }#T_fe3b1_row0_col4,#T_fe3b1_row9_col10{\n            background-color:  #4055c8;\n            color:  #f1f1f1;\n        }#T_fe3b1_row0_col5,#T_fe3b1_row4_col7,#T_fe3b1_row9_col4,#T_fe3b1_row10_col1,#T_fe3b1_row11_col9{\n            background-color:  #4961d2;\n            color:  #f1f1f1;\n        }#T_fe3b1_row0_col6{\n            background-color:  #4a63d3;\n            color:  #f1f1f1;\n        }#T_fe3b1_row0_col7,#T_fe3b1_row4_col1,#T_fe3b1_row5_col10{\n            background-color:  #5b7ae5;\n            color:  #000000;\n        }#T_fe3b1_row0_col8,#T_fe3b1_row0_col11,#T_fe3b1_row0_col12,#T_fe3b1_row1_col10,#T_fe3b1_row2_col3,#T_fe3b1_row3_col2,#T_fe3b1_row4_col6,#T_fe3b1_row6_col4,#T_fe3b1_row8_col7,#T_fe3b1_row9_col5,#T_fe3b1_row11_col1,#T_fe3b1_row11_col6,#T_fe3b1_row12_col0,#T_fe3b1_row12_col9{\n            background-color:  #3b4cc0;\n            color:  #f1f1f1;\n        }#T_fe3b1_row0_col9,#T_fe3b1_row1_col8{\n            background-color:  #6282ea;\n            color:  #000000;\n        }#T_fe3b1_row0_col10,#T_fe3b1_row8_col1{\n            background-color:  #5a78e4;\n            color:  #000000;\n        }#T_fe3b1_row1_col0{\n            background-color:  #c9d7f0;\n            color:  #000000;\n        }#T_fe3b1_row1_col2{\n            background-color:  #b9d0f9;\n            color:  #000000;\n        }#T_fe3b1_row1_col3{\n            background-color:  #cad8ef;\n            color:  #000000;\n        }#T_fe3b1_row1_col4,#T_fe3b1_row12_col4{\n            background-color:  #4358cb;\n            color:  #f1f1f1;\n        }#T_fe3b1_row1_col5,#T_fe3b1_row3_col8,#T_fe3b1_row3_col10{\n            background-color:  #6384eb;\n            color:  #000000;\n        }#T_fe3b1_row1_col6,#T_fe3b1_row5_col0{\n            background-color:  #779af7;\n            color:  #000000;\n        }#T_fe3b1_row1_col7{\n            background-color:  #6e90f2;\n            color:  #000000;\n        }#T_fe3b1_row1_col9,#T_fe3b1_row8_col12,#T_fe3b1_row9_col0,#T_fe3b1_row12_col11{\n            background-color:  #86a9fc;\n            color:  #000000;\n        }#T_fe3b1_row1_col11,#T_fe3b1_row8_col9,#T_fe3b1_row11_col7{\n            background-color:  #4e68d8;\n            color:  #000000;\n        }#T_fe3b1_row1_col12,#T_fe3b1_row8_col5,#T_fe3b1_row11_col10{\n            background-color:  #5d7ce6;\n            color:  #000000;\n        }#T_fe3b1_row2_col0{\n            background-color:  #7da0f9;\n            color:  #000000;\n        }#T_fe3b1_row2_col1,#T_fe3b1_row6_col7,#T_fe3b1_row7_col5,#T_fe3b1_row9_col11{\n            background-color:  #6687ed;\n            color:  #000000;\n        }#T_fe3b1_row2_col4,#T_fe3b1_row2_col9,#T_fe3b1_row5_col9,#T_fe3b1_row7_col4,#T_fe3b1_row9_col6{\n            background-color:  #4257c9;\n            color:  #f1f1f1;\n        }#T_fe3b1_row2_col5,#T_fe3b1_row3_col7,#T_fe3b1_row8_col0{\n            background-color:  #506bda;\n            color:  #000000;\n        }#T_fe3b1_row2_col6,#T_fe3b1_row10_col4{\n            background-color:  #4b64d5;\n            color:  #f1f1f1;\n        }#T_fe3b1_row2_col7,#T_fe3b1_row6_col9,#T_fe3b1_row8_col10{\n            background-color:  #516ddb;\n            color:  #000000;\n        }#T_fe3b1_row2_col8{\n            background-color:  #6b8df0;\n            color:  #000000;\n        }#T_fe3b1_row2_col10,#T_fe3b1_row6_col12{\n            background-color:  #8badfd;\n            color:  #000000;\n        }#T_fe3b1_row2_col11{\n            background-color:  #6a8bef;\n            color:  #000000;\n        }#T_fe3b1_row2_col12{\n            background-color:  #97b8ff;\n            color:  #000000;\n        }#T_fe3b1_row3_col0{\n            background-color:  #7a9df8;\n            color:  #000000;\n        }#T_fe3b1_row3_col1,#T_fe3b1_row8_col11{\n            background-color:  #81a4fb;\n            color:  #000000;\n        }#T_fe3b1_row3_col4,#T_fe3b1_row10_col6,#T_fe3b1_row12_col6{\n            background-color:  #5673e0;\n            color:  #000000;\n        }#T_fe3b1_row3_col5,#T_fe3b1_row7_col9{\n            background-color:  #4f69d9;\n            color:  #000000;\n        }#T_fe3b1_row3_col6,#T_fe3b1_row9_col7{\n            background-color:  #465ecf;\n            color:  #f1f1f1;\n        }#T_fe3b1_row3_col9,#T_fe3b1_row4_col9{\n            background-color:  #5875e1;\n            color:  #000000;\n        }#T_fe3b1_row3_col11,#T_fe3b1_row12_col7{\n            background-color:  #6f92f3;\n            color:  #000000;\n        }#T_fe3b1_row3_col12,#T_fe3b1_row7_col1{\n            background-color:  #80a3fa;\n            color:  #000000;\n        }#T_fe3b1_row4_col0{\n            background-color:  #7699f6;\n            color:  #000000;\n        }#T_fe3b1_row4_col2{\n            background-color:  #afcafc;\n            color:  #000000;\n        }#T_fe3b1_row4_col3{\n            background-color:  #bed2f6;\n            color:  #000000;\n        }#T_fe3b1_row4_col5,#T_fe3b1_row8_col4,#T_fe3b1_row10_col9,#T_fe3b1_row11_col4{\n            background-color:  #455cce;\n            color:  #f1f1f1;\n        }#T_fe3b1_row4_col8,#T_fe3b1_row5_col7{\n            background-color:  #6485ec;\n            color:  #000000;\n        }#T_fe3b1_row4_col10{\n            background-color:  #5572df;\n            color:  #000000;\n        }#T_fe3b1_row4_col11{\n            background-color:  #7093f3;\n            color:  #000000;\n        }#T_fe3b1_row4_col12{\n            background-color:  #799cf8;\n            color:  #000000;\n        }#T_fe3b1_row5_col1,#T_fe3b1_row5_col8,#T_fe3b1_row11_col8{\n            background-color:  #7597f6;\n            color:  #000000;\n        }#T_fe3b1_row5_col4{\n            background-color:  #3d50c3;\n            color:  #f1f1f1;\n        }#T_fe3b1_row5_col6{\n            background-color:  #e0dbd8;\n            color:  #000000;\n        }#T_fe3b1_row5_col11{\n            background-color:  #688aef;\n            color:  #000000;\n        }#T_fe3b1_row5_col12{\n            background-color:  #8caffe;\n            color:  #000000;\n        }#T_fe3b1_row6_col0,#T_fe3b1_row6_col8,#T_fe3b1_row10_col11{\n            background-color:  #7ea1fa;\n            color:  #000000;\n        }#T_fe3b1_row6_col1{\n            background-color:  #8db0fe;\n            color:  #000000;\n        }#T_fe3b1_row6_col2,#T_fe3b1_row7_col2,#T_fe3b1_row7_col3,#T_fe3b1_row8_col2,#T_fe3b1_row12_col3{\n            background-color:  #b6cefa;\n            color:  #000000;\n        }#T_fe3b1_row6_col5{\n            background-color:  #e3d9d3;\n            color:  #000000;\n        }#T_fe3b1_row6_col10,#T_fe3b1_row7_col6,#T_fe3b1_row8_col6,#T_fe3b1_row12_col5{\n            background-color:  #5f7fe8;\n            color:  #000000;\n        }#T_fe3b1_row6_col11,#T_fe3b1_row10_col8{\n            background-color:  #6788ee;\n            color:  #000000;\n        }#T_fe3b1_row7_col0{\n            background-color:  #89acfd;\n            color:  #000000;\n        }#T_fe3b1_row7_col8{\n            background-color:  #536edd;\n            color:  #000000;\n        }#T_fe3b1_row7_col10{\n            background-color:  #96b7ff;\n            color:  #000000;\n        }#T_fe3b1_row7_col11{\n            background-color:  #7396f5;\n            color:  #000000;\n        }#T_fe3b1_row7_col12{\n            background-color:  #9bbcff;\n            color:  #000000;\n        }#T_fe3b1_row8_col3,#T_fe3b1_row11_col3{\n            background-color:  #b1cbfc;\n            color:  #000000;\n        }#T_fe3b1_row9_col1,#T_fe3b1_row11_col12{\n            background-color:  #8fb1fe;\n            color:  #000000;\n        }#T_fe3b1_row9_col2{\n            background-color:  #a3c2fe;\n            color:  #000000;\n        }#T_fe3b1_row9_col8{\n            background-color:  #5e7de7;\n            color:  #000000;\n        }#T_fe3b1_row9_col12{\n            background-color:  #6180e9;\n            color:  #000000;\n        }#T_fe3b1_row10_col0{\n            background-color:  #85a8fc;\n            color:  #000000;\n        }#T_fe3b1_row10_col2{\n            background-color:  #d7dce3;\n            color:  #000000;\n        }#T_fe3b1_row10_col3{\n            background-color:  #c0d4f5;\n            color:  #000000;\n        }#T_fe3b1_row10_col5{\n            background-color:  #5977e3;\n            color:  #000000;\n        }#T_fe3b1_row10_col7{\n            background-color:  #93b5fe;\n            color:  #000000;\n        }#T_fe3b1_row10_col12{\n            background-color:  #a9c6fd;\n            color:  #000000;\n        }#T_fe3b1_row11_col0,#T_fe3b1_row11_col5{\n            background-color:  #445acc;\n            color:  #f1f1f1;\n        }#T_fe3b1_row11_col2{\n            background-color:  #adc9fd;\n            color:  #000000;\n        }#T_fe3b1_row12_col1{\n            background-color:  #3f53c6;\n            color:  #f1f1f1;\n        }#T_fe3b1_row12_col2{\n            background-color:  #c6d6f1;\n            color:  #000000;\n        }#T_fe3b1_row12_col8{\n            background-color:  #7295f4;\n            color:  #000000;\n        }#T_fe3b1_row12_col10{\n            background-color:  #82a6fb;\n            color:  #000000;\n        }</style><table id=\"T_fe3b1_\" ><thead>    <tr>        <th class=\"blank level0\" ></th>        <th class=\"col_heading level0 col0\" >is_canceled</th>        <th class=\"col_heading level0 col1\" >lead_time</th>        <th class=\"col_heading level0 col2\" >arrival_date_year</th>        <th class=\"col_heading level0 col3\" >arrival_date_week_number</th>        <th class=\"col_heading level0 col4\" >arrival_date_day_of_month</th>        <th class=\"col_heading level0 col5\" >stays_in_weekend_nights</th>        <th class=\"col_heading level0 col6\" >stays_in_week_nights</th>        <th class=\"col_heading level0 col7\" >adults</th>        <th class=\"col_heading level0 col8\" >booking_changes</th>        <th class=\"col_heading level0 col9\" >days_in_waiting_list</th>        <th class=\"col_heading level0 col10\" >adr</th>        <th class=\"col_heading level0 col11\" >required_car_parking_spaces</th>        <th class=\"col_heading level0 col12\" >total_of_special_requests</th>    </tr></thead><tbody>\n                <tr>\n                        <th id=\"T_fe3b1_level0_row0\" class=\"row_heading level0 row0\" >is_canceled</th>\n                        <td id=\"T_fe3b1_row0_col0\" class=\"data row0 col0\" >1.000</td>\n                        <td id=\"T_fe3b1_row0_col1\" class=\"data row0 col1\" >0.293</td>\n                        <td id=\"T_fe3b1_row0_col2\" class=\"data row0 col2\" >0.017</td>\n                        <td id=\"T_fe3b1_row0_col3\" class=\"data row0 col3\" >0.008</td>\n                        <td id=\"T_fe3b1_row0_col4\" class=\"data row0 col4\" >-0.006</td>\n                        <td id=\"T_fe3b1_row0_col5\" class=\"data row0 col5\" >-0.002</td>\n                        <td id=\"T_fe3b1_row0_col6\" class=\"data row0 col6\" >0.025</td>\n                        <td id=\"T_fe3b1_row0_col7\" class=\"data row0 col7\" >0.060</td>\n                        <td id=\"T_fe3b1_row0_col8\" class=\"data row0 col8\" >-0.144</td>\n                        <td id=\"T_fe3b1_row0_col9\" class=\"data row0 col9\" >0.054</td>\n                        <td id=\"T_fe3b1_row0_col10\" class=\"data row0 col10\" >0.048</td>\n                        <td id=\"T_fe3b1_row0_col11\" class=\"data row0 col11\" >-0.195</td>\n                        <td id=\"T_fe3b1_row0_col12\" class=\"data row0 col12\" >-0.235</td>\n            </tr>\n            <tr>\n                        <th id=\"T_fe3b1_level0_row1\" class=\"row_heading level0 row1\" >lead_time</th>\n                        <td id=\"T_fe3b1_row1_col0\" class=\"data row1 col0\" >0.293</td>\n                        <td id=\"T_fe3b1_row1_col1\" class=\"data row1 col1\" >1.000</td>\n                        <td id=\"T_fe3b1_row1_col2\" class=\"data row1 col2\" >0.040</td>\n                        <td id=\"T_fe3b1_row1_col3\" class=\"data row1 col3\" >0.127</td>\n                        <td id=\"T_fe3b1_row1_col4\" class=\"data row1 col4\" >0.002</td>\n                        <td id=\"T_fe3b1_row1_col5\" class=\"data row1 col5\" >0.086</td>\n                        <td id=\"T_fe3b1_row1_col6\" class=\"data row1 col6\" >0.166</td>\n                        <td id=\"T_fe3b1_row1_col7\" class=\"data row1 col7\" >0.120</td>\n                        <td id=\"T_fe3b1_row1_col8\" class=\"data row1 col8\" >0.000</td>\n                        <td id=\"T_fe3b1_row1_col9\" class=\"data row1 col9\" >0.170</td>\n                        <td id=\"T_fe3b1_row1_col10\" class=\"data row1 col10\" >-0.063</td>\n                        <td id=\"T_fe3b1_row1_col11\" class=\"data row1 col11\" >-0.116</td>\n                        <td id=\"T_fe3b1_row1_col12\" class=\"data row1 col12\" >-0.096</td>\n            </tr>\n            <tr>\n                        <th id=\"T_fe3b1_level0_row2\" class=\"row_heading level0 row2\" >arrival_date_year</th>\n                        <td id=\"T_fe3b1_row2_col0\" class=\"data row2 col0\" >0.017</td>\n                        <td id=\"T_fe3b1_row2_col1\" class=\"data row2 col1\" >0.040</td>\n                        <td id=\"T_fe3b1_row2_col2\" class=\"data row2 col2\" >1.000</td>\n                        <td id=\"T_fe3b1_row2_col3\" class=\"data row2 col3\" >-0.541</td>\n                        <td id=\"T_fe3b1_row2_col4\" class=\"data row2 col4\" >-0.000</td>\n                        <td id=\"T_fe3b1_row2_col5\" class=\"data row2 col5\" >0.021</td>\n                        <td id=\"T_fe3b1_row2_col6\" class=\"data row2 col6\" >0.031</td>\n                        <td id=\"T_fe3b1_row2_col7\" class=\"data row2 col7\" >0.030</td>\n                        <td id=\"T_fe3b1_row2_col8\" class=\"data row2 col8\" >0.031</td>\n                        <td id=\"T_fe3b1_row2_col9\" class=\"data row2 col9\" >-0.056</td>\n                        <td id=\"T_fe3b1_row2_col10\" class=\"data row2 col10\" >0.198</td>\n                        <td id=\"T_fe3b1_row2_col11\" class=\"data row2 col11\" >-0.014</td>\n                        <td id=\"T_fe3b1_row2_col12\" class=\"data row2 col12\" >0.109</td>\n            </tr>\n            <tr>\n                        <th id=\"T_fe3b1_level0_row3\" class=\"row_heading level0 row3\" >arrival_date_week_number</th>\n                        <td id=\"T_fe3b1_row3_col0\" class=\"data row3 col0\" >0.008</td>\n                        <td id=\"T_fe3b1_row3_col1\" class=\"data row3 col1\" >0.127</td>\n                        <td id=\"T_fe3b1_row3_col2\" class=\"data row3 col2\" >-0.541</td>\n                        <td id=\"T_fe3b1_row3_col3\" class=\"data row3 col3\" >1.000</td>\n                        <td id=\"T_fe3b1_row3_col4\" class=\"data row3 col4\" >0.067</td>\n                        <td id=\"T_fe3b1_row3_col5\" class=\"data row3 col5\" >0.018</td>\n                        <td id=\"T_fe3b1_row3_col6\" class=\"data row3 col6\" >0.016</td>\n                        <td id=\"T_fe3b1_row3_col7\" class=\"data row3 col7\" >0.026</td>\n                        <td id=\"T_fe3b1_row3_col8\" class=\"data row3 col8\" >0.006</td>\n                        <td id=\"T_fe3b1_row3_col9\" class=\"data row3 col9\" >0.023</td>\n                        <td id=\"T_fe3b1_row3_col10\" class=\"data row3 col10\" >0.076</td>\n                        <td id=\"T_fe3b1_row3_col11\" class=\"data row3 col11\" >0.002</td>\n                        <td id=\"T_fe3b1_row3_col12\" class=\"data row3 col12\" >0.026</td>\n            </tr>\n            <tr>\n                        <th id=\"T_fe3b1_level0_row4\" class=\"row_heading level0 row4\" >arrival_date_day_of_month</th>\n                        <td id=\"T_fe3b1_row4_col0\" class=\"data row4 col0\" >-0.006</td>\n                        <td id=\"T_fe3b1_row4_col1\" class=\"data row4 col1\" >0.002</td>\n                        <td id=\"T_fe3b1_row4_col2\" class=\"data row4 col2\" >-0.000</td>\n                        <td id=\"T_fe3b1_row4_col3\" class=\"data row4 col3\" >0.067</td>\n                        <td id=\"T_fe3b1_row4_col4\" class=\"data row4 col4\" >1.000</td>\n                        <td id=\"T_fe3b1_row4_col5\" class=\"data row4 col5\" >-0.016</td>\n                        <td id=\"T_fe3b1_row4_col6\" class=\"data row4 col6\" >-0.028</td>\n                        <td id=\"T_fe3b1_row4_col7\" class=\"data row4 col7\" >-0.002</td>\n                        <td id=\"T_fe3b1_row4_col8\" class=\"data row4 col8\" >0.011</td>\n                        <td id=\"T_fe3b1_row4_col9\" class=\"data row4 col9\" >0.023</td>\n                        <td id=\"T_fe3b1_row4_col10\" class=\"data row4 col10\" >0.030</td>\n                        <td id=\"T_fe3b1_row4_col11\" class=\"data row4 col11\" >0.009</td>\n                        <td id=\"T_fe3b1_row4_col12\" class=\"data row4 col12\" >0.003</td>\n            </tr>\n            <tr>\n                        <th id=\"T_fe3b1_level0_row5\" class=\"row_heading level0 row5\" >stays_in_weekend_nights</th>\n                        <td id=\"T_fe3b1_row5_col0\" class=\"data row5 col0\" >-0.002</td>\n                        <td id=\"T_fe3b1_row5_col1\" class=\"data row5 col1\" >0.086</td>\n                        <td id=\"T_fe3b1_row5_col2\" class=\"data row5 col2\" >0.021</td>\n                        <td id=\"T_fe3b1_row5_col3\" class=\"data row5 col3\" >0.018</td>\n                        <td id=\"T_fe3b1_row5_col4\" class=\"data row5 col4\" >-0.016</td>\n                        <td id=\"T_fe3b1_row5_col5\" class=\"data row5 col5\" >1.000</td>\n                        <td id=\"T_fe3b1_row5_col6\" class=\"data row5 col6\" >0.499</td>\n                        <td id=\"T_fe3b1_row5_col7\" class=\"data row5 col7\" >0.092</td>\n                        <td id=\"T_fe3b1_row5_col8\" class=\"data row5 col8\" >0.063</td>\n                        <td id=\"T_fe3b1_row5_col9\" class=\"data row5 col9\" >-0.054</td>\n                        <td id=\"T_fe3b1_row5_col10\" class=\"data row5 col10\" >0.049</td>\n                        <td id=\"T_fe3b1_row5_col11\" class=\"data row5 col11\" >-0.019</td>\n                        <td id=\"T_fe3b1_row5_col12\" class=\"data row5 col12\" >0.073</td>\n            </tr>\n            <tr>\n                        <th id=\"T_fe3b1_level0_row6\" class=\"row_heading level0 row6\" >stays_in_week_nights</th>\n                        <td id=\"T_fe3b1_row6_col0\" class=\"data row6 col0\" >0.025</td>\n                        <td id=\"T_fe3b1_row6_col1\" class=\"data row6 col1\" >0.166</td>\n                        <td id=\"T_fe3b1_row6_col2\" class=\"data row6 col2\" >0.031</td>\n                        <td id=\"T_fe3b1_row6_col3\" class=\"data row6 col3\" >0.016</td>\n                        <td id=\"T_fe3b1_row6_col4\" class=\"data row6 col4\" >-0.028</td>\n                        <td id=\"T_fe3b1_row6_col5\" class=\"data row6 col5\" >0.499</td>\n                        <td id=\"T_fe3b1_row6_col6\" class=\"data row6 col6\" >1.000</td>\n                        <td id=\"T_fe3b1_row6_col7\" class=\"data row6 col7\" >0.093</td>\n                        <td id=\"T_fe3b1_row6_col8\" class=\"data row6 col8\" >0.096</td>\n                        <td id=\"T_fe3b1_row6_col9\" class=\"data row6 col9\" >-0.002</td>\n                        <td id=\"T_fe3b1_row6_col10\" class=\"data row6 col10\" >0.065</td>\n                        <td id=\"T_fe3b1_row6_col11\" class=\"data row6 col11\" >-0.025</td>\n                        <td id=\"T_fe3b1_row6_col12\" class=\"data row6 col12\" >0.068</td>\n            </tr>\n            <tr>\n                        <th id=\"T_fe3b1_level0_row7\" class=\"row_heading level0 row7\" >adults</th>\n                        <td id=\"T_fe3b1_row7_col0\" class=\"data row7 col0\" >0.060</td>\n                        <td id=\"T_fe3b1_row7_col1\" class=\"data row7 col1\" >0.120</td>\n                        <td id=\"T_fe3b1_row7_col2\" class=\"data row7 col2\" >0.030</td>\n                        <td id=\"T_fe3b1_row7_col3\" class=\"data row7 col3\" >0.026</td>\n                        <td id=\"T_fe3b1_row7_col4\" class=\"data row7 col4\" >-0.002</td>\n                        <td id=\"T_fe3b1_row7_col5\" class=\"data row7 col5\" >0.092</td>\n                        <td id=\"T_fe3b1_row7_col6\" class=\"data row7 col6\" >0.093</td>\n                        <td id=\"T_fe3b1_row7_col7\" class=\"data row7 col7\" >1.000</td>\n                        <td id=\"T_fe3b1_row7_col8\" class=\"data row7 col8\" >-0.052</td>\n                        <td id=\"T_fe3b1_row7_col9\" class=\"data row7 col9\" >-0.008</td>\n                        <td id=\"T_fe3b1_row7_col10\" class=\"data row7 col10\" >0.231</td>\n                        <td id=\"T_fe3b1_row7_col11\" class=\"data row7 col11\" >0.015</td>\n                        <td id=\"T_fe3b1_row7_col12\" class=\"data row7 col12\" >0.123</td>\n            </tr>\n            <tr>\n                        <th id=\"T_fe3b1_level0_row8\" class=\"row_heading level0 row8\" >booking_changes</th>\n                        <td id=\"T_fe3b1_row8_col0\" class=\"data row8 col0\" >-0.144</td>\n                        <td id=\"T_fe3b1_row8_col1\" class=\"data row8 col1\" >0.000</td>\n                        <td id=\"T_fe3b1_row8_col2\" class=\"data row8 col2\" >0.031</td>\n                        <td id=\"T_fe3b1_row8_col3\" class=\"data row8 col3\" >0.006</td>\n                        <td id=\"T_fe3b1_row8_col4\" class=\"data row8 col4\" >0.011</td>\n                        <td id=\"T_fe3b1_row8_col5\" class=\"data row8 col5\" >0.063</td>\n                        <td id=\"T_fe3b1_row8_col6\" class=\"data row8 col6\" >0.096</td>\n                        <td id=\"T_fe3b1_row8_col7\" class=\"data row8 col7\" >-0.052</td>\n                        <td id=\"T_fe3b1_row8_col8\" class=\"data row8 col8\" >1.000</td>\n                        <td id=\"T_fe3b1_row8_col9\" class=\"data row8 col9\" >-0.012</td>\n                        <td id=\"T_fe3b1_row8_col10\" class=\"data row8 col10\" >0.020</td>\n                        <td id=\"T_fe3b1_row8_col11\" class=\"data row8 col11\" >0.066</td>\n                        <td id=\"T_fe3b1_row8_col12\" class=\"data row8 col12\" >0.053</td>\n            </tr>\n            <tr>\n                        <th id=\"T_fe3b1_level0_row9\" class=\"row_heading level0 row9\" >days_in_waiting_list</th>\n                        <td id=\"T_fe3b1_row9_col0\" class=\"data row9 col0\" >0.054</td>\n                        <td id=\"T_fe3b1_row9_col1\" class=\"data row9 col1\" >0.170</td>\n                        <td id=\"T_fe3b1_row9_col2\" class=\"data row9 col2\" >-0.056</td>\n                        <td id=\"T_fe3b1_row9_col3\" class=\"data row9 col3\" >0.023</td>\n                        <td id=\"T_fe3b1_row9_col4\" class=\"data row9 col4\" >0.023</td>\n                        <td id=\"T_fe3b1_row9_col5\" class=\"data row9 col5\" >-0.054</td>\n                        <td id=\"T_fe3b1_row9_col6\" class=\"data row9 col6\" >-0.002</td>\n                        <td id=\"T_fe3b1_row9_col7\" class=\"data row9 col7\" >-0.008</td>\n                        <td id=\"T_fe3b1_row9_col8\" class=\"data row9 col8\" >-0.012</td>\n                        <td id=\"T_fe3b1_row9_col9\" class=\"data row9 col9\" >1.000</td>\n                        <td id=\"T_fe3b1_row9_col10\" class=\"data row9 col10\" >-0.041</td>\n                        <td id=\"T_fe3b1_row9_col11\" class=\"data row9 col11\" >-0.031</td>\n                        <td id=\"T_fe3b1_row9_col12\" class=\"data row9 col12\" >-0.083</td>\n            </tr>\n            <tr>\n                        <th id=\"T_fe3b1_level0_row10\" class=\"row_heading level0 row10\" >adr</th>\n                        <td id=\"T_fe3b1_row10_col0\" class=\"data row10 col0\" >0.048</td>\n                        <td id=\"T_fe3b1_row10_col1\" class=\"data row10 col1\" >-0.063</td>\n                        <td id=\"T_fe3b1_row10_col2\" class=\"data row10 col2\" >0.198</td>\n                        <td id=\"T_fe3b1_row10_col3\" class=\"data row10 col3\" >0.076</td>\n                        <td id=\"T_fe3b1_row10_col4\" class=\"data row10 col4\" >0.030</td>\n                        <td id=\"T_fe3b1_row10_col5\" class=\"data row10 col5\" >0.049</td>\n                        <td id=\"T_fe3b1_row10_col6\" class=\"data row10 col6\" >0.065</td>\n                        <td id=\"T_fe3b1_row10_col7\" class=\"data row10 col7\" >0.231</td>\n                        <td id=\"T_fe3b1_row10_col8\" class=\"data row10 col8\" >0.020</td>\n                        <td id=\"T_fe3b1_row10_col9\" class=\"data row10 col9\" >-0.041</td>\n                        <td id=\"T_fe3b1_row10_col10\" class=\"data row10 col10\" >1.000</td>\n                        <td id=\"T_fe3b1_row10_col11\" class=\"data row10 col11\" >0.057</td>\n                        <td id=\"T_fe3b1_row10_col12\" class=\"data row10 col12\" >0.172</td>\n            </tr>\n            <tr>\n                        <th id=\"T_fe3b1_level0_row11\" class=\"row_heading level0 row11\" >required_car_parking_spaces</th>\n                        <td id=\"T_fe3b1_row11_col0\" class=\"data row11 col0\" >-0.195</td>\n                        <td id=\"T_fe3b1_row11_col1\" class=\"data row11 col1\" >-0.116</td>\n                        <td id=\"T_fe3b1_row11_col2\" class=\"data row11 col2\" >-0.014</td>\n                        <td id=\"T_fe3b1_row11_col3\" class=\"data row11 col3\" >0.002</td>\n                        <td id=\"T_fe3b1_row11_col4\" class=\"data row11 col4\" >0.009</td>\n                        <td id=\"T_fe3b1_row11_col5\" class=\"data row11 col5\" >-0.019</td>\n                        <td id=\"T_fe3b1_row11_col6\" class=\"data row11 col6\" >-0.025</td>\n                        <td id=\"T_fe3b1_row11_col7\" class=\"data row11 col7\" >0.015</td>\n                        <td id=\"T_fe3b1_row11_col8\" class=\"data row11 col8\" >0.066</td>\n                        <td id=\"T_fe3b1_row11_col9\" class=\"data row11 col9\" >-0.031</td>\n                        <td id=\"T_fe3b1_row11_col10\" class=\"data row11 col10\" >0.057</td>\n                        <td id=\"T_fe3b1_row11_col11\" class=\"data row11 col11\" >1.000</td>\n                        <td id=\"T_fe3b1_row11_col12\" class=\"data row11 col12\" >0.083</td>\n            </tr>\n            <tr>\n                        <th id=\"T_fe3b1_level0_row12\" class=\"row_heading level0 row12\" >total_of_special_requests</th>\n                        <td id=\"T_fe3b1_row12_col0\" class=\"data row12 col0\" >-0.235</td>\n                        <td id=\"T_fe3b1_row12_col1\" class=\"data row12 col1\" >-0.096</td>\n                        <td id=\"T_fe3b1_row12_col2\" class=\"data row12 col2\" >0.109</td>\n                        <td id=\"T_fe3b1_row12_col3\" class=\"data row12 col3\" >0.026</td>\n                        <td id=\"T_fe3b1_row12_col4\" class=\"data row12 col4\" >0.003</td>\n                        <td id=\"T_fe3b1_row12_col5\" class=\"data row12 col5\" >0.073</td>\n                        <td id=\"T_fe3b1_row12_col6\" class=\"data row12 col6\" >0.068</td>\n                        <td id=\"T_fe3b1_row12_col7\" class=\"data row12 col7\" >0.123</td>\n                        <td id=\"T_fe3b1_row12_col8\" class=\"data row12 col8\" >0.053</td>\n                        <td id=\"T_fe3b1_row12_col9\" class=\"data row12 col9\" >-0.083</td>\n                        <td id=\"T_fe3b1_row12_col10\" class=\"data row12 col10\" >0.172</td>\n                        <td id=\"T_fe3b1_row12_col11\" class=\"data row12 col11\" >0.083</td>\n                        <td id=\"T_fe3b1_row12_col12\" class=\"data row12 col12\" >1.000</td>\n            </tr>\n    </tbody></table>"
     },
     "execution_count": 10,
     "metadata": {},
     "output_type": "execute_result"
    }
   ],
   "source": [
    "corr = df.corr()\n",
    "corr.style.background_gradient(cmap='coolwarm').set_precision(3)"
   ],
   "metadata": {
    "collapsed": false,
    "pycharm": {
     "name": "#%%\n"
    }
   }
  }
 ],
 "metadata": {
  "kernelspec": {
   "display_name": "Python 3",
   "language": "python",
   "name": "python3"
  },
  "language_info": {
   "codemirror_mode": {
    "name": "ipython",
    "version": 2
   },
   "file_extension": ".py",
   "mimetype": "text/x-python",
   "name": "python",
   "nbconvert_exporter": "python",
   "pygments_lexer": "ipython2",
   "version": "2.7.6"
  }
 },
 "nbformat": 4,
 "nbformat_minor": 0
}