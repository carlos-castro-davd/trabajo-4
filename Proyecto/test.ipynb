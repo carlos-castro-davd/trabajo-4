{
 "cells": [
  {
   "cell_type": "code",
   "execution_count": 1,
   "metadata": {
    "collapsed": true
   },
   "outputs": [],
   "source": [
    "import pandas as pd"
   ]
  },
  {
   "cell_type": "code",
   "execution_count": 2,
   "outputs": [],
   "source": [
    "ts_resort_fin = pd.read_csv(\"data_from_notebook/ts_resort_fin.csv\")\n",
    "test_r = pd.read_csv(\"data_from_notebook/test_r.csv\")\n",
    "pred_r = pd.read_csv(\"data_from_notebook/pred_r.csv\")\n",
    "pred_forc_r = pd.read_csv(\"data_from_notebook/pred_forc_r.csv\")\n",
    "\n",
    "ts_city_fin = pd.read_csv(\"data_from_notebook/ts_city_fin.csv\")\n",
    "test_c = pd.read_csv(\"data_from_notebook/test_c.csv\")\n",
    "pred_c = pd.read_csv(\"data_from_notebook/pred_c.csv\")\n",
    "pred_forc_c = pd.read_csv(\"data_from_notebook/pred_forc_c.csv\")"
   ],
   "metadata": {
    "collapsed": false,
    "pycharm": {
     "name": "#%%\n"
    }
   }
  },
  {
   "cell_type": "code",
   "execution_count": 4,
   "outputs": [
    {
     "data": {
      "text/plain": "RangeIndex(start=0, stop=778, step=1)"
     },
     "execution_count": 4,
     "metadata": {},
     "output_type": "execute_result"
    }
   ],
   "source": [
    "ts_resort_fin.index"
   ],
   "metadata": {
    "collapsed": false,
    "pycharm": {
     "name": "#%%\n"
    }
   }
  }
 ],
 "metadata": {
  "kernelspec": {
   "display_name": "Python 3",
   "language": "python",
   "name": "python3"
  },
  "language_info": {
   "codemirror_mode": {
    "name": "ipython",
    "version": 2
   },
   "file_extension": ".py",
   "mimetype": "text/x-python",
   "name": "python",
   "nbconvert_exporter": "python",
   "pygments_lexer": "ipython2",
   "version": "2.7.6"
  }
 },
 "nbformat": 4,
 "nbformat_minor": 0
}